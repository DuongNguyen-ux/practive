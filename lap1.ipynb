{
  "nbformat": 4,
  "nbformat_minor": 0,
  "metadata": {
    "colab": {
      "provenance": [],
      "authorship_tag": "ABX9TyPT3a/d0a/y9J/xAFfN3rVI",
      "include_colab_link": true
    },
    "kernelspec": {
      "name": "python3",
      "display_name": "Python 3"
    },
    "language_info": {
      "name": "python"
    }
  },
  "cells": [
    {
      "cell_type": "markdown",
      "metadata": {
        "id": "view-in-github",
        "colab_type": "text"
      },
      "source": [
        "<a href=\"https://colab.research.google.com/github/DuongNguyen-ux/practive/blob/main/lap1.ipynb\" target=\"_parent\"><img src=\"https://colab.research.google.com/assets/colab-badge.svg\" alt=\"Open In Colab\"/></a>"
      ]
    },
    {
      "cell_type": "code",
      "execution_count": null,
      "metadata": {
        "colab": {
          "base_uri": "https://localhost:8080/"
        },
        "id": "pKDCaaVz-RAy",
        "outputId": "90b58ea8-7011-4822-a23a-6c195b2c3521"
      },
      "outputs": [
        {
          "output_type": "stream",
          "name": "stdout",
          "text": [
            "Device: cpu\n"
          ]
        },
        {
          "output_type": "stream",
          "name": "stderr",
          "text": [
            "100%|██████████| 26.4M/26.4M [00:02<00:00, 12.4MB/s]\n",
            "100%|██████████| 29.5k/29.5k [00:00<00:00, 210kB/s]\n",
            "100%|██████████| 4.42M/4.42M [00:01<00:00, 3.90MB/s]\n",
            "100%|██████████| 5.15k/5.15k [00:00<00:00, 21.4MB/s]\n"
          ]
        }
      ],
      "source": [
        "# train_fashionmnist.py\n",
        "import torch\n",
        "import torch.nn as nn\n",
        "import torch.optim as optim\n",
        "from torchvision import datasets, transforms\n",
        "from torch.utils.data import DataLoader\n",
        "import matplotlib.pyplot as plt\n",
        "import os\n",
        "import random\n",
        "import numpy as np\n",
        "\n",
        "\n",
        "\n",
        "\n",
        "device = torch.device(\"cuda\" if torch.cuda.is_available() else \"cpu\")\n",
        "print(\"Device:\", device)\n",
        "\n",
        "# -----------------------------\n",
        "# 1) Load FashionMNIST dataset + 2) Apply transforms\n",
        "# -----------------------------\n",
        "transform_train = transforms.Compose([\n",
        "    transforms.RandomHorizontalFlip(p=0.5),   # nhẹ augmentation để cải thiện generalization\n",
        "    transforms.ToTensor(),\n",
        "    transforms.Normalize((0.5,), (0.5,))\n",
        "])\n",
        "\n",
        "transform_test = transforms.Compose([\n",
        "    transforms.ToTensor(),\n",
        "    transforms.Normalize((0.5,), (0.5,))\n",
        "])\n",
        "\n",
        "train_dataset = datasets.FashionMNIST(root='./data', train=True, download=True, transform=transform_train)\n",
        "test_dataset  = datasets.FashionMNIST(root='./data', train=False, download=True, transform=transform_test)\n",
        "\n",
        "train_loader = DataLoader(train_dataset, batch_size=64, shuffle=True, num_workers=2, pin_memory=True)\n",
        "test_loader  = DataLoader(test_dataset,  batch_size=64, shuffle=False, num_workers=2, pin_memory=True)\n",
        "\n",
        "labels_map = {\n",
        "    0: \"T-shirt/top\", 1: \"Trouser\", 2: \"Pullover\", 3: \"Dress\", 4: \"Coat\",\n",
        "    5: \"Sandal\", 6: \"Shirt\", 7: \"Sneaker\", 8: \"Bag\", 9: \"Ankle Boot\"\n",
        "}\n",
        "\n",
        "\n",
        "\n",
        "\n",
        "\n",
        "\n"
      ]
    },
    {
      "cell_type": "code",
      "source": [
        "# -----------------------------\n",
        "# 3) Build a neural network (CNN)\n",
        "# -----------------------------\n",
        "class CNN_Fashion(nn.Module):\n",
        "    def __init__(self):\n",
        "        super(CNN_Fashion, self).__init__()\n",
        "        self.features = nn.Sequential(\n",
        "            nn.Conv2d(1, 32, kernel_size=3, padding=1),  # -> 32 x 28 x 28\n",
        "            nn.ReLU(),\n",
        "            nn.MaxPool2d(2,2),                            # -> 32 x 14 x 14\n",
        "\n",
        "            nn.Conv2d(32, 64, kernel_size=3, padding=1), # -> 64 x 14 x 14\n",
        "            nn.ReLU(),\n",
        "            nn.MaxPool2d(2,2),                            # -> 64 x 7 x 7\n",
        "\n",
        "            nn.Conv2d(64, 128, kernel_size=3, padding=1),# -> 128 x 7 x 7\n",
        "            nn.ReLU(),\n",
        "            # no further pooling to keep features\n",
        "        )\n",
        "        self.classifier = nn.Sequential(\n",
        "            nn.Flatten(),\n",
        "            nn.Linear(128*7*7, 256),\n",
        "            nn.ReLU(),\n",
        "            nn.Dropout(0.4),\n",
        "            nn.Linear(256, 10)\n",
        "        )\n",
        "\n",
        "    def forward(self, x):\n",
        "        x = self.features(x)\n",
        "        x = self.classifier(x)\n",
        "        return x\n",
        "\n",
        "model = CNN_Fashion().to(device)\n",
        "print(model)\n",
        "\n",
        "# Loss & Optimizer\n",
        "criterion = nn.CrossEntropyLoss()\n",
        "optimizer = optim.Adam(model.parameters(), lr=0.001)\n",
        "\n",
        "# -----------------------------\n",
        "# Utility: evaluate function\n",
        "# -----------------------------\n",
        "def evaluate(model, dataloader, device):\n",
        "    model.eval()\n",
        "    correct = 0\n",
        "    total = 0\n",
        "    running_loss = 0.0\n",
        "    with torch.no_grad():\n",
        "        for images, labels in dataloader:\n",
        "            images, labels = images.to(device), labels.to(device)\n",
        "            outputs = model(images)\n",
        "            loss = criterion(outputs, labels)\n",
        "            running_loss += loss.item() * images.size(0)\n",
        "            _, preds = torch.max(outputs, 1)\n",
        "            correct += (preds == labels).sum().item()\n",
        "            total += labels.size(0)\n",
        "    avg_loss = running_loss / total\n",
        "    acc = 100.0 * correct / total\n",
        "    return avg_loss, acc\n"
      ],
      "metadata": {
        "colab": {
          "base_uri": "https://localhost:8080/"
        },
        "id": "oTWpyafQ-V9R",
        "outputId": "15924fb3-5d0c-4ae7-82c1-85a05fd553af"
      },
      "execution_count": null,
      "outputs": [
        {
          "output_type": "stream",
          "name": "stdout",
          "text": [
            "CNN_Fashion(\n",
            "  (features): Sequential(\n",
            "    (0): Conv2d(1, 32, kernel_size=(3, 3), stride=(1, 1), padding=(1, 1))\n",
            "    (1): ReLU()\n",
            "    (2): MaxPool2d(kernel_size=2, stride=2, padding=0, dilation=1, ceil_mode=False)\n",
            "    (3): Conv2d(32, 64, kernel_size=(3, 3), stride=(1, 1), padding=(1, 1))\n",
            "    (4): ReLU()\n",
            "    (5): MaxPool2d(kernel_size=2, stride=2, padding=0, dilation=1, ceil_mode=False)\n",
            "    (6): Conv2d(64, 128, kernel_size=(3, 3), stride=(1, 1), padding=(1, 1))\n",
            "    (7): ReLU()\n",
            "  )\n",
            "  (classifier): Sequential(\n",
            "    (0): Flatten(start_dim=1, end_dim=-1)\n",
            "    (1): Linear(in_features=6272, out_features=256, bias=True)\n",
            "    (2): ReLU()\n",
            "    (3): Dropout(p=0.4, inplace=False)\n",
            "    (4): Linear(in_features=256, out_features=10, bias=True)\n",
            "  )\n",
            ")\n"
          ]
        }
      ]
    },
    {
      "cell_type": "code",
      "source": [
        "# -----------------------------\n",
        "# 4) Training loop (forward, loss, backward, optimize)\n",
        "# -----------------------------\n",
        "train_losses = []\n",
        "test_losses = []\n",
        "test_accuracies = []\n",
        "epochs = 10\n",
        "for epoch in range(1, epochs+1):\n",
        "    model.train()\n",
        "    running_loss = 0.0\n",
        "    for batch_idx, (images, labels) in enumerate(train_loader, start=1):\n",
        "        images, labels = images.to(device), labels.to(device)\n",
        "\n",
        "        # forward\n",
        "        outputs = model(images)\n",
        "        loss = criterion(outputs, labels)\n",
        "\n",
        "        # backward + optimize\n",
        "        optimizer.zero_grad()\n",
        "        loss.backward()\n",
        "        optimizer.step()\n",
        "\n",
        "        running_loss += loss.item()\n",
        "\n",
        "        if batch_idx % 200 == 0:\n",
        "            print(f\"Epoch [{epoch}/{epochs}] Batch [{batch_idx}/{len(train_loader)}] Loss: {loss.item():.4f}\")\n",
        "\n",
        "    train_loss = running_loss / len(train_loader)\n",
        "    train_losses.append(train_loss)\n",
        "\n",
        "    # evaluate on test set after each epoch\n",
        "    test_loss, test_acc = evaluate(model, test_loader, device)\n",
        "    test_losses.append(test_loss)\n",
        "    test_accuracies.append(test_acc)\n",
        "\n",
        "    print(f\"Epoch [{epoch}/{epochs}] Train Loss: {train_loss:.4f} -- Test Loss: {test_loss:.4f} -- Test Acc: {test_acc:.2f}%\")\n"
      ],
      "metadata": {
        "colab": {
          "base_uri": "https://localhost:8080/"
        },
        "id": "6-OpkUnT_Lzc",
        "outputId": "58343441-a7fc-49d6-f7cb-8594c91b38e7"
      },
      "execution_count": null,
      "outputs": [
        {
          "metadata": {
            "tags": null
          },
          "name": "stderr",
          "output_type": "stream",
          "text": [
            "/usr/local/lib/python3.12/dist-packages/torch/utils/data/dataloader.py:666: UserWarning: 'pin_memory' argument is set as true but no accelerator is found, then device pinned memory won't be used.\n",
            "  warnings.warn(warn_msg)\n"
          ]
        },
        {
          "output_type": "stream",
          "name": "stdout",
          "text": [
            "Epoch [1/10] Batch [200/938] Loss: 0.5989\n",
            "Epoch [1/10] Batch [400/938] Loss: 0.5026\n",
            "Epoch [1/10] Batch [600/938] Loss: 0.4597\n",
            "Epoch [1/10] Batch [800/938] Loss: 0.2800\n",
            "Epoch [1/10] Train Loss: 0.4719 -- Test Loss: 0.3304 -- Test Acc: 88.30%\n",
            "Epoch [2/10] Batch [200/938] Loss: 0.2512\n",
            "Epoch [2/10] Batch [400/938] Loss: 0.2634\n",
            "Epoch [2/10] Batch [600/938] Loss: 0.3364\n",
            "Epoch [2/10] Batch [800/938] Loss: 0.3411\n",
            "Epoch [2/10] Train Loss: 0.3014 -- Test Loss: 0.2763 -- Test Acc: 90.05%\n",
            "Epoch [3/10] Batch [200/938] Loss: 0.2825\n",
            "Epoch [3/10] Batch [400/938] Loss: 0.1548\n",
            "Epoch [3/10] Batch [600/938] Loss: 0.2874\n",
            "Epoch [3/10] Batch [800/938] Loss: 0.2015\n",
            "Epoch [3/10] Train Loss: 0.2547 -- Test Loss: 0.2606 -- Test Acc: 90.68%\n",
            "Epoch [4/10] Batch [200/938] Loss: 0.2300\n",
            "Epoch [4/10] Batch [400/938] Loss: 0.2275\n",
            "Epoch [4/10] Batch [600/938] Loss: 0.4639\n",
            "Epoch [4/10] Batch [800/938] Loss: 0.1304\n",
            "Epoch [4/10] Train Loss: 0.2265 -- Test Loss: 0.2491 -- Test Acc: 90.90%\n",
            "Epoch [5/10] Batch [200/938] Loss: 0.1148\n",
            "Epoch [5/10] Batch [400/938] Loss: 0.0755\n",
            "Epoch [5/10] Batch [600/938] Loss: 0.1549\n",
            "Epoch [5/10] Batch [800/938] Loss: 0.1760\n",
            "Epoch [5/10] Train Loss: 0.2084 -- Test Loss: 0.2525 -- Test Acc: 90.77%\n",
            "Epoch [6/10] Batch [200/938] Loss: 0.2284\n",
            "Epoch [6/10] Batch [400/938] Loss: 0.2244\n",
            "Epoch [6/10] Batch [600/938] Loss: 0.1522\n",
            "Epoch [6/10] Batch [800/938] Loss: 0.0637\n",
            "Epoch [6/10] Train Loss: 0.1896 -- Test Loss: 0.2315 -- Test Acc: 91.25%\n",
            "Epoch [7/10] Batch [200/938] Loss: 0.2749\n",
            "Epoch [7/10] Batch [400/938] Loss: 0.2617\n",
            "Epoch [7/10] Batch [600/938] Loss: 0.2548\n",
            "Epoch [7/10] Batch [800/938] Loss: 0.1905\n",
            "Epoch [7/10] Train Loss: 0.1728 -- Test Loss: 0.2320 -- Test Acc: 92.07%\n",
            "Epoch [8/10] Batch [200/938] Loss: 0.0978\n",
            "Epoch [8/10] Batch [400/938] Loss: 0.0598\n",
            "Epoch [8/10] Batch [600/938] Loss: 0.3739\n",
            "Epoch [8/10] Batch [800/938] Loss: 0.1468\n",
            "Epoch [8/10] Train Loss: 0.1594 -- Test Loss: 0.2257 -- Test Acc: 92.56%\n",
            "Epoch [9/10] Batch [200/938] Loss: 0.0921\n",
            "Epoch [9/10] Batch [400/938] Loss: 0.0994\n",
            "Epoch [9/10] Batch [600/938] Loss: 0.0755\n",
            "Epoch [9/10] Batch [800/938] Loss: 0.1716\n",
            "Epoch [9/10] Train Loss: 0.1478 -- Test Loss: 0.2283 -- Test Acc: 92.16%\n",
            "Epoch [10/10] Batch [200/938] Loss: 0.1252\n",
            "Epoch [10/10] Batch [400/938] Loss: 0.0832\n",
            "Epoch [10/10] Batch [600/938] Loss: 0.0771\n",
            "Epoch [10/10] Batch [800/938] Loss: 0.2908\n",
            "Epoch [10/10] Train Loss: 0.1386 -- Test Loss: 0.2424 -- Test Acc: 92.08%\n"
          ]
        }
      ]
    },
    {
      "cell_type": "code",
      "source": [
        "# -----------------------------\n",
        "# 5) Final evaluation\n",
        "# -----------------------------\n",
        "final_loss, final_acc = evaluate(model, test_loader, device)\n",
        "print(f\"\\nFinal Test Loss: {final_loss:.4f}, Final Test Accuracy: {final_acc:.2f}%\")\n",
        "\n",
        "# Plot loss & accuracy\n",
        "plt.figure(figsize=(10,4))\n",
        "plt.subplot(1,2,1)\n",
        "plt.plot(range(1, epochs+1), train_losses, marker='o')\n",
        "plt.title(\"Train Loss\")\n",
        "plt.xlabel(\"Epoch\")\n",
        "plt.grid(True)\n",
        "\n",
        "plt.subplot(1,2,2)\n",
        "plt.plot(range(1, epochs+1), test_accuracies, marker='o')\n",
        "plt.title(\"Test Accuracy (%)\")\n",
        "plt.xlabel(\"Epoch\")\n",
        "plt.grid(True)\n",
        "\n",
        "plt.tight_layout()\n",
        "plt.show()"
      ],
      "metadata": {
        "colab": {
          "base_uri": "https://localhost:8080/",
          "height": 442
        },
        "id": "M0KxPiij_ZKM",
        "outputId": "e8ba0c50-11e6-486a-b16b-9a8319c0ea84"
      },
      "execution_count": null,
      "outputs": [
        {
          "output_type": "stream",
          "name": "stdout",
          "text": [
            "\n",
            "Final Test Loss: 0.2424, Final Test Accuracy: 92.08%\n"
          ]
        },
        {
          "output_type": "display_data",
          "data": {
            "text/plain": [
              "<Figure size 1000x400 with 2 Axes>"
            ],
            "image/png": "[encoded data removed]"
          },
          "metadata": {}
        }
      ]
    },
    {
      "cell_type": "code",
      "source": [
        "# -----------------------------\n",
        "# 6) Save the model\n",
        "# -----------------------------\n",
        "model_path = \"fashion_cnn.pth\"\n",
        "torch.save({\n",
        "    'model_state_dict': model.state_dict(),\n",
        "    'optimizer_state_dict': optimizer.state_dict(),\n",
        "    'epochs_trained': epochs,\n",
        "}, model_path)\n",
        "print(f\"Model saved to {model_path}\")\n",
        "\n",
        "# -----------------------------\n",
        "# Example: 6b) Load the model (usage)\n",
        "# -----------------------------\n",
        "# To load later, create the model instance and load state_dict:\n",
        "# model = CNN_Fashion()\n",
        "# checkpoint = torch.load(\"fashion_cnn.pth\", map_location=device)\n",
        "# model.load_state_dict(checkpoint['model_state_dict'])\n",
        "# optimizer.load_state_dict(checkpoint['optimizer_state_dict'])  # nếu cần resume training\n",
        "# model.to(device)\n",
        "# model.eval()"
      ],
      "metadata": {
        "colab": {
          "base_uri": "https://localhost:8080/"
        },
        "id": "WglpiUiH_dL1",
        "outputId": "552ece8a-af81-4096-a6f9-efb2e185c995"
      },
      "execution_count": null,
      "outputs": [
        {
          "output_type": "stream",
          "name": "stdout",
          "text": [
            "Model saved to fashion_cnn.pth\n"
          ]
        }
      ]
    }
  ]
}