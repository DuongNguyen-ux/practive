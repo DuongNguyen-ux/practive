{
 "cells": [
  {
   "cell_type": "code",
   "execution_count": 8,
   "id": "10249e5b",
   "metadata": {},
   "outputs": [
    {
     "name": "stderr",
     "output_type": "stream",
     "text": [
      "No model was supplied, defaulted to distilbert/distilbert-base-uncased-finetuned-sst-2-english and revision 714eb0f (https://huggingface.co/distilbert/distilbert-base-uncased-finetuned-sst-2-english).\n",
      "Using a pipeline without specifying a model name and revision in production is not recommended.\n",
      "Device set to use cpu\n",
      "Device set to use cpu\n"
     ]
    },
    {
     "name": "stdout",
     "output_type": "stream",
     "text": [
      "{'input_ids': [[101, 1045, 2293, 2023, 3185, 999, 102], [101, 2023, 2003, 1996, 5409, 4031, 1045, 1005, 2310, 2412, 4149, 1012, 102], [101, 1996, 4633, 2003, 3100, 2651, 1012, 102]], 'attention_mask': [[1, 1, 1, 1, 1, 1, 1], [1, 1, 1, 1, 1, 1, 1, 1, 1, 1, 1, 1, 1], [1, 1, 1, 1, 1, 1, 1, 1]]}\n",
      "I love this movie! => POSITIVE (1.00)\n",
      "This is the worst product I've ever bought. => NEGATIVE (1.00)\n",
      "The weather is okay today. => POSITIVE (1.00)\n",
      "I love this movie! => POSITIVE (1.00)\n",
      "This is the worst product I've ever bought. => NEGATIVE (1.00)\n",
      "The weather is okay today. => POSITIVE (1.00)\n"
     ]
    }
   ],
   "source": [
    "from transformers import pipeline\n",
    "from transformers import AutoTokenizer\n",
    "\n",
    "# Tạo pipeline cho sentiment analysis\n",
    "sentiment_analyzer = pipeline(\"sentiment-analysis\")\n",
    "\n",
    "# Chọn model\n",
    "model_name = \"distilbert-base-uncased-finetuned-sst-2-english\"\n",
    "tokenizer = AutoTokenizer.from_pretrained(model_name)\n",
    "\n",
    "sentences = [\n",
    "    \"I love this movie!\",\n",
    "    \"This is the worst product I've ever bought.\",\n",
    "    \"The weather is okay today.\"\n",
    "]\n",
    "\n",
    "tokens = tokenizer(sentences)\n",
    "print(tokens)\n",
    "\n",
    "results = sentiment_analyzer(sentences)\n",
    "for s, r in zip(sentences, results):\n",
    "    print(f\"{s} => {r['label']} ({r['score']:.2f})\")"
   ]
  },
  {
   "cell_type": "code",
   "execution_count": null,
   "id": "cbd6c861",
   "metadata": {},
   "outputs": [],
   "source": []
  }
 ],
 "metadata": {
  "kernelspec": {
   "display_name": "Python 3",
   "language": "python",
   "name": "python3"
  },
  "language_info": {
   "codemirror_mode": {
    "name": "ipython",
    "version": 3
   },
   "file_extension": ".py",
   "mimetype": "text/x-python",
   "name": "python",
   "nbconvert_exporter": "python",
   "pygments_lexer": "ipython3",
   "version": "3.13.1"
  }
 },
 "nbformat": 4,
 "nbformat_minor": 5
}
